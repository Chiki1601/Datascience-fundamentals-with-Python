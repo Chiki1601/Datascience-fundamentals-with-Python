{
 "cells": [
  {
   "cell_type": "code",
   "execution_count": 3,
   "id": "ddc98612",
   "metadata": {},
   "outputs": [],
   "source": [
    "#python pandas programs\n",
    "\n",
    "\n",
    "\n",
    "'''Pandas = Panel Data\n",
    "\n",
    "single dimensional = Series Object    __>> one dimensional labeld array\n",
    "Multidimensional = Dataframe   -->> data storedd in rows and columns '''\n",
    "\n",
    "import pandas as pooja"
   ]
  },
  {
   "cell_type": "code",
   "execution_count": 5,
   "id": "893988ca",
   "metadata": {},
   "outputs": [
    {
     "data": {
      "text/plain": [
       "0    1\n",
       "1    2\n",
       "2    3\n",
       "3    4\n",
       "4    5\n",
       "dtype: int64"
      ]
     },
     "execution_count": 5,
     "metadata": {},
     "output_type": "execute_result"
    }
   ],
   "source": [
    "import pandas as pooja\n",
    "s1 = pooja.Series([1,2,3,4,5])\n",
    "s1"
   ]
  },
  {
   "cell_type": "code",
   "execution_count": 6,
   "id": "3a8604bf",
   "metadata": {},
   "outputs": [
    {
     "data": {
      "text/plain": [
       "pandas.core.series.Series"
      ]
     },
     "execution_count": 6,
     "metadata": {},
     "output_type": "execute_result"
    }
   ],
   "source": [
    "type(s1)"
   ]
  },
  {
   "cell_type": "code",
   "execution_count": 13,
   "id": "368199e6",
   "metadata": {},
   "outputs": [
    {
     "data": {
      "text/plain": [
       "p    1\n",
       "q    2\n",
       "r    3\n",
       "s    4\n",
       "t    5\n",
       "dtype: int64"
      ]
     },
     "execution_count": 13,
     "metadata": {},
     "output_type": "execute_result"
    }
   ],
   "source": [
    "#Changing index\n",
    "import pandas as pooja\n",
    "s1 = pooja.Series([1,2,3,4,5],index = [\"p\",'q','r','s','t'])\n",
    "s1"
   ]
  },
  {
   "cell_type": "code",
   "execution_count": 14,
   "id": "44e623ac",
   "metadata": {},
   "outputs": [
    {
     "data": {
      "text/plain": [
       "a    1\n",
       "b    2\n",
       "c    3\n",
       "dtype: int64"
      ]
     },
     "execution_count": 14,
     "metadata": {},
     "output_type": "execute_result"
    }
   ],
   "source": [
    "#pandas Series created from dictionary\n",
    "\n",
    "import pandas as pooja\n",
    "pooja.Series({'a':1,'b':2,'c':3})"
   ]
  },
  {
   "cell_type": "code",
   "execution_count": 15,
   "id": "f1ca03d8",
   "metadata": {},
   "outputs": [
    {
     "data": {
      "text/plain": [
       "d    NaN\n",
       "a    1.0\n",
       "c    3.0\n",
       "b    2.0\n",
       "dtype: float64"
      ]
     },
     "execution_count": 15,
     "metadata": {},
     "output_type": "execute_result"
    }
   ],
   "source": [
    "#changing index positions\n",
    "import pandas as pooja\n",
    "pooja.Series({'a':1,'b':2,'c':3},index = ['d','a','c','b'])"
   ]
  },
  {
   "cell_type": "code",
   "execution_count": 16,
   "id": "08e4ea7b",
   "metadata": {},
   "outputs": [
    {
     "data": {
      "text/plain": [
       "4"
      ]
     },
     "execution_count": 16,
     "metadata": {},
     "output_type": "execute_result"
    }
   ],
   "source": [
    "#extracting elements from Series\n",
    "\n",
    "'''Extracting Single element'''\n",
    "import pandas as pooja\n",
    "s1 = pooja.Series([1,2,3,4,5,6,7,8,9,10])\n",
    "s1[3]\n"
   ]
  },
  {
   "cell_type": "code",
   "execution_count": 17,
   "id": "6e352b8e",
   "metadata": {},
   "outputs": [
    {
     "data": {
      "text/plain": [
       "7     8\n",
       "8     9\n",
       "9    10\n",
       "dtype: int64"
      ]
     },
     "execution_count": 17,
     "metadata": {},
     "output_type": "execute_result"
    }
   ],
   "source": [
    "'''Extracting element from back'''\n",
    "import pandas as pooja\n",
    "s1 = pooja.Series([1,2,3,4,5,6,7,8,9,10])\n",
    "s1[-3:]\n"
   ]
  },
  {
   "cell_type": "code",
   "execution_count": 18,
   "id": "612c1c22",
   "metadata": {},
   "outputs": [
    {
     "data": {
      "text/plain": [
       "0    1\n",
       "1    2\n",
       "2    3\n",
       "3    4\n",
       "4    5\n",
       "dtype: int64"
      ]
     },
     "execution_count": 18,
     "metadata": {},
     "output_type": "execute_result"
    }
   ],
   "source": [
    "'''Extracting sequence of element '''\n",
    "import pandas as pooja\n",
    "s1 = pooja.Series([1,2,3,4,5,6,7,8,9,10])\n",
    "s1[:5]"
   ]
  },
  {
   "cell_type": "code",
   "execution_count": 19,
   "id": "838b7eb2",
   "metadata": {},
   "outputs": [
    {
     "data": {
      "text/plain": [
       "0     6\n",
       "1     7\n",
       "2     8\n",
       "3     9\n",
       "4    10\n",
       "5    11\n",
       "6    12\n",
       "7    13\n",
       "8    14\n",
       "9    15\n",
       "dtype: int64"
      ]
     },
     "execution_count": 19,
     "metadata": {},
     "output_type": "execute_result"
    }
   ],
   "source": [
    "# Adding Scalar value \n",
    "\n",
    "import pandas as pooja\n",
    "s1 = pooja.Series([1,2,3,4,5,6,7,8,9,10])\n",
    "s1+5"
   ]
  },
  {
   "cell_type": "code",
   "execution_count": 21,
   "id": "fb5b0fe3",
   "metadata": {},
   "outputs": [
    {
     "data": {
      "text/plain": [
       "0    0\n",
       "1    1\n",
       "2    2\n",
       "3    3\n",
       "4    4\n",
       "5    5\n",
       "6    6\n",
       "7    7\n",
       "8    8\n",
       "9    9\n",
       "dtype: int64"
      ]
     },
     "execution_count": 21,
     "metadata": {},
     "output_type": "execute_result"
    }
   ],
   "source": [
    "# Subtracting Scalar value \n",
    "\n",
    "import pandas as pooja\n",
    "s1 = pooja.Series([1,2,3,4,5,6,7,8,9,10])\n",
    "s1 - 1"
   ]
  },
  {
   "cell_type": "code",
   "execution_count": 22,
   "id": "a7d0939d",
   "metadata": {},
   "outputs": [
    {
     "data": {
      "text/plain": [
       "0     3\n",
       "1     6\n",
       "2     9\n",
       "3    12\n",
       "4    15\n",
       "5    18\n",
       "6    21\n",
       "7    24\n",
       "8    27\n",
       "9    30\n",
       "dtype: int64"
      ]
     },
     "execution_count": 22,
     "metadata": {},
     "output_type": "execute_result"
    }
   ],
   "source": [
    "# Multiplicating Scalar value \n",
    "\n",
    "import pandas as pooja\n",
    "s1 = pooja.Series([1,2,3,4,5,6,7,8,9,10])\n",
    "s1 * 3"
   ]
  },
  {
   "cell_type": "code",
   "execution_count": 23,
   "id": "d4cef1ba",
   "metadata": {},
   "outputs": [
    {
     "data": {
      "text/plain": [
       "0     1.0\n",
       "1     2.0\n",
       "2     3.0\n",
       "3     4.0\n",
       "4     5.0\n",
       "5     6.0\n",
       "6     7.0\n",
       "7     8.0\n",
       "8     9.0\n",
       "9    10.0\n",
       "dtype: float64"
      ]
     },
     "execution_count": 23,
     "metadata": {},
     "output_type": "execute_result"
    }
   ],
   "source": [
    "## SDividing Scalar value \n",
    "\n",
    "import pandas as pooja\n",
    "s1 = pooja.Series([100,200,300,400,500,600,700,800,900,1000])\n",
    "s1 /100"
   ]
  },
  {
   "cell_type": "code",
   "execution_count": 20,
   "id": "15d90f39",
   "metadata": {},
   "outputs": [
    {
     "data": {
      "text/plain": [
       "0     11\n",
       "1     22\n",
       "2     33\n",
       "3     44\n",
       "4     55\n",
       "5     66\n",
       "6     77\n",
       "7     88\n",
       "8     99\n",
       "9    110\n",
       "dtype: int64"
      ]
     },
     "execution_count": 20,
     "metadata": {},
     "output_type": "execute_result"
    }
   ],
   "source": [
    "# Adding two series object\n",
    "import pandas as pooja\n",
    "s1 = pooja.Series([1,2,3,4,5,6,7,8,9,10])\n",
    "s2 = pooja.Series([10,20,30,40,50,60,70,80,90,100])\n",
    "\n",
    "s1+s2"
   ]
  },
  {
   "cell_type": "code",
   "execution_count": 24,
   "id": "44864176",
   "metadata": {},
   "outputs": [
    {
     "data": {
      "text/html": [
       "<div>\n",
       "<style scoped>\n",
       "    .dataframe tbody tr th:only-of-type {\n",
       "        vertical-align: middle;\n",
       "    }\n",
       "\n",
       "    .dataframe tbody tr th {\n",
       "        vertical-align: top;\n",
       "    }\n",
       "\n",
       "    .dataframe thead th {\n",
       "        text-align: right;\n",
       "    }\n",
       "</style>\n",
       "<table border=\"1\" class=\"dataframe\">\n",
       "  <thead>\n",
       "    <tr style=\"text-align: right;\">\n",
       "      <th></th>\n",
       "      <th>Name</th>\n",
       "      <th>Marks</th>\n",
       "    </tr>\n",
       "  </thead>\n",
       "  <tbody>\n",
       "    <tr>\n",
       "      <th>0</th>\n",
       "      <td>Pooja</td>\n",
       "      <td>48</td>\n",
       "    </tr>\n",
       "    <tr>\n",
       "      <th>1</th>\n",
       "      <td>Maya</td>\n",
       "      <td>49</td>\n",
       "    </tr>\n",
       "    <tr>\n",
       "      <th>2</th>\n",
       "      <td>Aditya</td>\n",
       "      <td>46</td>\n",
       "    </tr>\n",
       "  </tbody>\n",
       "</table>\n",
       "</div>"
      ],
      "text/plain": [
       "     Name Marks\n",
       "0   Pooja    48\n",
       "1    Maya    49\n",
       "2  Aditya    46"
      ]
     },
     "execution_count": 24,
     "metadata": {},
     "output_type": "execute_result"
    }
   ],
   "source": [
    "#Creating Dataframe \n",
    "\n",
    "import pandas as pooja\n",
    "\n",
    "pooja.DataFrame({\"Name\":[\"Pooja\",\"Maya\",\"Aditya\"],\"Marks\":[\"48\",\"49\",\"46\"]})"
   ]
  },
  {
   "cell_type": "code",
   "execution_count": null,
   "id": "96bf1c19",
   "metadata": {},
   "outputs": [],
   "source": [
    "# built in functions in pandas\n",
    "'''\n",
    "head()\n",
    "tail()\n",
    "shape()\n",
    "describe()\n",
    "\n",
    "'''\n",
    "\n",
    "#completed!\n"
   ]
  }
 ],
 "metadata": {
  "kernelspec": {
   "display_name": "Python 3",
   "language": "python",
   "name": "python3"
  },
  "language_info": {
   "codemirror_mode": {
    "name": "ipython",
    "version": 3
   },
   "file_extension": ".py",
   "mimetype": "text/x-python",
   "name": "python",
   "nbconvert_exporter": "python",
   "pygments_lexer": "ipython3",
   "version": "3.8.8"
  }
 },
 "nbformat": 4,
 "nbformat_minor": 5
}
